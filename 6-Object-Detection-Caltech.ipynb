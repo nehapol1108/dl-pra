{
 "cells": [
  {
   "cell_type": "code",
   "execution_count": 2,
   "id": "3c0bdcb2",
   "metadata": {},
   "outputs": [],
   "source": [
    "import tensorflow as tf\n",
    "from tensorflow import keras\n",
    "from tensorflow.keras import datasets, layers, models\n",
    "from tensorflow.keras.applications import VGG16\n",
    "from tensorflow.keras.models import Model\n",
    "from tensorflow.keras.layers import Dense, Flatten\n",
    "from tensorflow.keras.optimizers import Adam\n",
    "from tensorflow.keras.utils import to_categorical\n",
    "import numpy as np\n",
    "import pandas as pd\n",
    "from tensorflow.keras.preprocessing.image import ImageDataGenerator"
   ]
  },
  {
   "cell_type": "code",
   "execution_count": 3,
   "id": "fbdabdd5",
   "metadata": {},
   "outputs": [
    {
     "name": "stdout",
     "output_type": "stream",
     "text": [
      "Found 9144 images belonging to 102 classes.\n"
     ]
    }
   ],
   "source": [
    "# Load the training data from CSV file\n",
    "\n",
    "dataset_dir = \"../LP-IV-datasets/Object Detection(Ass6)/caltech-101-img\" #Specifies the directory path where the dataset is located\n",
    "dataset_dat4\n",
    "agen = ImageDataGenerator(\n",
    "    rescale=1.0 / 255,\n",
    ")\n",
    "#normalises the image\n",
    "\n",
    "# # here batch_size is the number of images in each batch\n",
    "batch_size = 2000\n",
    "dataset_generator = dataset_datagen.flow_from_directory(\n",
    "    dataset_dir,\n",
    "    target_size=(64, 64), #resizes the image into 64 by 64 pixel\n",
    "    batch_size=batch_size, #Sets the batch size for training.\n",
    "    class_mode='categorical' # labels are one-hot encoded\n",
    ")"
   ]
  },
  {
   "cell_type": "code",
   "execution_count": 4,
   "id": "8acd5d0e",
   "metadata": {},
   "outputs": [
    {
     "name": "stdout",
     "output_type": "stream",
     "text": [
      "2000\n",
      "2000\n"
     ]
    }
   ],
   "source": [
    "x_train, y_train =  dataset_generator[0]\n",
    "x_test, y_test = dataset_generator[1]\n",
    "\n",
    "print(len(x_train))\n",
    "print(len(x_test))"
   ]
  },
  {
   "cell_type": "code",
   "execution_count": 5,
   "id": "fc7aec5b",
   "metadata": {},
   "outputs": [],
   "source": [
    "base_model = VGG16(weights = '../LP-IV-datasets/Object Detection(Ass6)/vgg16_weights_tf_dim_ordering_tf_kernels_notop.h5'\n",
    "                  ,include_top=False,input_shape=(64,64,3))\n"
   ]
  },
  {
   "cell_type": "code",
   "execution_count": 6,
   "id": "dbe18393",
   "metadata": {},
   "outputs": [],
   "source": [
    "for layer in base_model.layers:\n",
    "   layer.trainable = False"
   ]
  },
  {
   "cell_type": "code",
   "execution_count": 7,
   "id": "dffcfdbb",
   "metadata": {},
   "outputs": [],
   "source": [
    "model = models.Sequential()\n",
    "model.add(base_model)\n",
    "model.add(layers.Flatten())\n",
    "model.add(layers.Dense(64, activation='relu'))\n",
    "model.add(layers.Dense(102, activation='softmax'))\n",
    "\n",
    "# Create the model\n",
    "# model = Model(inputs=base_model.input, outputs=predictions)\n",
    "# Compile the model\n",
    "model.compile(optimizer=\"adam\", loss='categorical_crossentropy', metrics=['accuracy'])"
   ]
  },
  {
   "cell_type": "code",
   "execution_count": 8,
   "id": "ccf4fd85",
   "metadata": {},
   "outputs": [
    {
     "name": "stdout",
     "output_type": "stream",
     "text": [
      "Epoch 1/4\n",
      "32/32 [==============================] - 103s 3s/step - loss: 3.9521 - accuracy: 0.1895 - val_loss: 3.5418 - val_accuracy: 0.2525\n",
      "Epoch 2/4\n",
      "32/32 [==============================] - 48s 1s/step - loss: 3.1072 - accuracy: 0.3370 - val_loss: 3.1548 - val_accuracy: 0.3480\n",
      "Epoch 3/4\n",
      "32/32 [==============================] - 43s 1s/step - loss: 2.6496 - accuracy: 0.4385 - val_loss: 2.8798 - val_accuracy: 0.3985\n",
      "Epoch 4/4\n",
      "32/32 [==============================] - 44s 1s/step - loss: 2.2737 - accuracy: 0.5035 - val_loss: 2.6318 - val_accuracy: 0.4355\n"
     ]
    },
    {
     "data": {
      "text/plain": [
       "<keras.src.callbacks.History at 0x1f849e89d20>"
      ]
     },
     "execution_count": 8,
     "metadata": {},
     "output_type": "execute_result"
    }
   ],
   "source": [
    "model.fit(x_train, y_train, epochs=4, batch_size=64, validation_data=(x_test, y_test))"
   ]
  },
  {
   "cell_type": "code",
   "execution_count": 9,
   "id": "4bf0c474",
   "metadata": {},
   "outputs": [
    {
     "name": "stdout",
     "output_type": "stream",
     "text": [
      "63/63 [==============================] - 24s 375ms/step\n"
     ]
    }
   ],
   "source": [
    "import matplotlib.pyplot as plt\n",
    "predicted_value = model.predict(x_test)\n"
   ]
  },
  {
   "cell_type": "code",
   "execution_count": 10,
   "id": "b952c132",
   "metadata": {},
   "outputs": [
    {
     "data": {
      "text/plain": [
       "[6, 54, 2, 0, 4]"
      ]
     },
     "execution_count": 10,
     "metadata": {},
     "output_type": "execute_result"
    }
   ],
   "source": [
    "y_classes = [np.argmax(element) for element in predicted_value]\n",
    "y_classes[:5]"
   ]
  },
  {
   "cell_type": "code",
   "execution_count": 11,
   "id": "1fc6e07d",
   "metadata": {},
   "outputs": [
    {
     "data": {
      "text/plain": [
       "[0, 854, 7452, 30, 0]"
      ]
     },
     "execution_count": 11,
     "metadata": {},
     "output_type": "execute_result"
    }
   ],
   "source": [
    "y_act_cls = [np.argmax(element) for element in x_test]\n",
    "y_act_cls[:5]"
   ]
  },
  {
   "cell_type": "code",
   "execution_count": 12,
   "id": "434126aa",
   "metadata": {},
   "outputs": [
    {
     "name": "stdout",
     "output_type": "stream",
     "text": [
      "Preditcted:  4\n",
      "Actual:  4\n"
     ]
    },
    {
     "data": {
      "image/png": "[encoded data removed]",
      "text/plain": [
       "<Figure size 640x480 with 1 Axes>"
      ]
     },
     "metadata": {},
     "output_type": "display_data"
    }
   ],
   "source": [
    "n = 1001\n",
    "plt.imshow(x_test[n])\n",
    "print(\"Preditcted: \",np.argmax(predicted_value[n]))\n",
    "print(\"Actual: \", np.argmax(y_test[n]))"
   ]
  },
  {
   "cell_type": "code",
   "execution_count": 15,
   "id": "92fc9b5a",
   "metadata": {},
   "outputs": [],
   "source": [
    "base_model = VGG16(weights='../LP-IV-datasets/Object Detection(Ass6)/vgg16_weights_tf_dim_ordering_tf_kernels_notop.h5', include_top=False, input_shape=(64,64, 3))\n",
    "# freeze all layers first\n",
    "for layer in base_model.layers:\n",
    "   layer.trainable = False\n",
    "# unfreeze last 4 layers of base model\n",
    "for layer in base_model.layers[len(base_model.layers) - 2:]:\n",
    "   layer.trainable = True\n",
    "# fine-tuning hyper parameters\n",
    "model = models.Sequential()\n",
    "model.add(base_model)\n",
    "model.add(layers.Flatten())\n",
    "model.add(layers.Dense(512, activation='relu'))\n",
    "model.add(layers.Dropout(0.3))\n",
    "model.add(layers.Dense(102, activation='softmax'))\n",
    "\n",
    "# Create the model\n",
    "# model = Model(inputs=base_model.input, outputs=predictions)\n",
    "# Compile the model\n",
    "model.compile(optimizer=\"adam\", loss='categorical_crossentropy', metrics=['accuracy'])"
   ]
  },
  {
   "cell_type": "code",
   "execution_count": 16,
   "id": "c5517670",
   "metadata": {},
   "outputs": [
    {
     "name": "stdout",
     "output_type": "stream",
     "text": [
      "Epoch 1/4\n",
      "32/32 [==============================] - 55s 2s/step - loss: 3.1006 - accuracy: 0.3665 - val_loss: 2.4258 - val_accuracy: 0.4585\n",
      "Epoch 2/4\n",
      "32/32 [==============================] - 51s 2s/step - loss: 1.7520 - accuracy: 0.5810 - val_loss: 2.0221 - val_accuracy: 0.5320\n",
      "Epoch 3/4\n",
      "32/32 [==============================] - 53s 2s/step - loss: 1.1112 - accuracy: 0.7160 - val_loss: 1.8523 - val_accuracy: 0.5715\n",
      "Epoch 4/4\n",
      "32/32 [==============================] - 55s 2s/step - loss: 0.6880 - accuracy: 0.8080 - val_loss: 1.8103 - val_accuracy: 0.5835\n"
     ]
    },
    {
     "data": {
      "text/plain": [
       "<keras.src.callbacks.History at 0x1f8510bc5e0>"
      ]
     },
     "execution_count": 16,
     "metadata": {},
     "output_type": "execute_result"
    }
   ],
   "source": [
    "model.fit(x_train, y_train, epochs=4, batch_size=64, validation_data=(x_test, y_test))"
   ]
  },
  {
   "cell_type": "code",
   "execution_count": 17,
   "id": "00f80563",
   "metadata": {},
   "outputs": [
    {
     "name": "stdout",
     "output_type": "stream",
     "text": [
      "Preditcted:  4\n",
      "Actual:  4\n"
     ]
    },
    {
     "data": {
      "image/png": "[encoded data removed]",
      "text/plain": [
       "<Figure size 640x480 with 1 Axes>"
      ]
     },
     "metadata": {},
     "output_type": "display_data"
    }
   ],
   "source": [
    "n = 1001\n",
    "plt.imshow(x_test[n])\n",
    "print(\"Preditcted: \",np.argmax(predicted_value[n]))\n",
    "print(\"Actual: \", np.argmax(y_test[n]))"
   ]
  },
  {
   "cell_type": "code",
   "execution_count": 20,
   "id": "4304abf4",
   "metadata": {},
   "outputs": [
    {
     "data": {
      "text/plain": [
       "[6, 54, 2, 0, 4, 97, 0, 20, 3, 48]"
      ]
     },
     "execution_count": 20,
     "metadata": {},
     "output_type": "execute_result"
    }
   ],
   "source": [
    "y_classes = [np.argmax(element) for element in predicted_value]\n",
    "y_classes[:10]"
   ]
  },
  {
   "cell_type": "code",
   "execution_count": 21,
   "id": "aec0f88f",
   "metadata": {},
   "outputs": [
    {
     "data": {
      "text/plain": [
       "[0, 854, 7452, 30, 0, 359, 3770, 4161, 667, 4088]"
      ]
     },
     "execution_count": 21,
     "metadata": {},
     "output_type": "execute_result"
    }
   ],
   "source": [
    "y_act_cls = [np.argmax(element) for element in x_test]\n",
    "y_act_cls[:10]"
   ]
  },
  {
   "cell_type": "code",
   "execution_count": null,
   "id": "ab361efc",
   "metadata": {},
   "outputs": [],
   "source": []
  }
 ],
 "metadata": {
  "kernelspec": {
   "display_name": "Python 3 (ipykernel)",
   "language": "python",
   "name": "python3"
  },
  "language_info": {
   "codemirror_mode": {
    "name": "ipython",
    "version": 3
   },
   "file_extension": ".py",
   "mimetype": "text/x-python",
   "name": "python",
   "nbconvert_exporter": "python",
   "pygments_lexer": "ipython3",
   "version": "3.10.8"
  }
 },
 "nbformat": 4,
 "nbformat_minor": 5
}
