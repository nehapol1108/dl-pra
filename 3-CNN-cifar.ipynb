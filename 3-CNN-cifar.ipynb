{
 "cells": [
  {
   "cell_type": "code",
   "execution_count": 2,
   "id": "9dd81679",
   "metadata": {},
   "outputs": [],
   "source": [
    "import matplotlib.pyplot as plt\n",
    "import tensorflow as tf\n",
    "import numpy as np\n",
    "from tensorflow import keras\n",
    "from tensorflow.keras.datasets import mnist\n",
    "from tensorflow.keras.models import Sequential\n",
    "from tensorflow.keras.layers import Dense, Conv2D,Dropout,Flatten,MaxPooling2D\n",
    "import pandas as pd"
   ]
  },
  {
   "cell_type": "code",
   "execution_count": 3,
   "id": "26a49ade",
   "metadata": {},
   "outputs": [],
   "source": [
    "# Load the training data from CSV file\n",
    "train_data = pd.read_csv('../LP-IV-datasets/CIFR(Ass2&3)/train_data.csv')\n",
    "test_data = pd.read_csv('../LP-IV-datasets/CIFR(Ass2&3)/test_data.csv')\n",
    "\n",
    "x_train = train_data.drop('label', axis=1).values\n",
    "y_train = train_data['label']\n",
    "\n",
    "# Load the testing data from CSV file\n",
    "x_test = test_data.drop('label', axis=1).values\n",
    "y_test = test_data['label'].values\n",
    "\n",
    "num_classes = 10"
   ]
  },
  {
   "cell_type": "code",
   "execution_count": 4,
   "id": "4c7b37cd",
   "metadata": {},
   "outputs": [],
   "source": [
    "num_classes=10\n",
    "\n",
    "x_train=x_train.astype(\"float32\")/255.0\n",
    "x_test=x_test.astype(\"float32\")/255.0\n",
    "\n",
    "x_train=x_train.reshape((-1,32,32,3))   # -1,28*28\n",
    "x_test=x_test.reshape((-1,32,32,3))   # -1,28*28\n",
    "\n",
    "y_train=keras.utils.to_categorical(y_train,num_classes)\n",
    "y_test=keras.utils.to_categorical(y_test,num_classes)\n",
    "\n"
   ]
  },
  {
   "cell_type": "code",
   "execution_count": 5,
   "id": "a7b3b5eb",
   "metadata": {},
   "outputs": [
    {
     "name": "stdout",
     "output_type": "stream",
     "text": [
      "shape of training  (50000, 32, 32, 3)\n",
      "shape of testing  (10000, 32, 32, 3)\n"
     ]
    }
   ],
   "source": [
    "print(\"shape of training \",x_train.shape)\n",
    "print(\"shape of testing \",x_test.shape)"
   ]
  },
  {
   "cell_type": "code",
   "execution_count": 6,
   "id": "44987fa9",
   "metadata": {},
   "outputs": [
    {
     "name": "stdout",
     "output_type": "stream",
     "text": [
      "Model: \"sequential\"\n",
      "_________________________________________________________________\n",
      " Layer (type)                Output Shape              Param #   \n",
      "=================================================================\n",
      " conv2d (Conv2D)             (None, 30, 30, 32)        896       \n",
      "                                                                 \n",
      " max_pooling2d (MaxPooling2  (None, 15, 15, 32)        0         \n",
      " D)                                                              \n",
      "                                                                 \n",
      " conv2d_1 (Conv2D)           (None, 13, 13, 64)        18496     \n",
      "                                                                 \n",
      " max_pooling2d_1 (MaxPoolin  (None, 6, 6, 64)          0         \n",
      " g2D)                                                            \n",
      "                                                                 \n",
      " conv2d_2 (Conv2D)           (None, 4, 4, 64)          36928     \n",
      "                                                                 \n",
      " flatten (Flatten)           (None, 1024)              0         \n",
      "                                                                 \n",
      " dense (Dense)               (None, 64)                65600     \n",
      "                                                                 \n",
      " dense_1 (Dense)             (None, 10)                650       \n",
      "                                                                 \n",
      "=================================================================\n",
      "Total params: 122570 (478.79 KB)\n",
      "Trainable params: 122570 (478.79 KB)\n",
      "Non-trainable params: 0 (0.00 Byte)\n",
      "_________________________________________________________________\n"
     ]
    }
   ],
   "source": [
    "model=Sequential([\n",
    "    Conv2D(32,(3,3),activation='relu',input_shape=(32,32,3)),\n",
    "    MaxPooling2D((2,2)),\n",
    "    Conv2D(64,(3,3),activation='relu'),\n",
    "    MaxPooling2D((2,2)),\n",
    "    Conv2D(64,(3,3),activation='relu'),\n",
    "    Flatten(),\n",
    "    Dense(64,activation='relu'),\n",
    "    Dense(10,activation='softmax')\n",
    "])\n",
    "model.summary()"
   ]
  },
  {
   "cell_type": "code",
   "execution_count": 7,
   "id": "e567f69e",
   "metadata": {},
   "outputs": [
    {
     "name": "stdout",
     "output_type": "stream",
     "text": [
      "Epoch 1/10\n",
      "1563/1563 [==============================] - 56s 35ms/step - loss: 1.5403 - accuracy: 0.4353 - val_loss: 1.2604 - val_accuracy: 0.5464\n",
      "Epoch 2/10\n",
      "1563/1563 [==============================] - 55s 35ms/step - loss: 1.1681 - accuracy: 0.5848 - val_loss: 1.1995 - val_accuracy: 0.5813\n",
      "Epoch 3/10\n",
      "1563/1563 [==============================] - 57s 37ms/step - loss: 1.0129 - accuracy: 0.6429 - val_loss: 1.0267 - val_accuracy: 0.6454\n",
      "Epoch 4/10\n",
      "1563/1563 [==============================] - 57s 36ms/step - loss: 0.9141 - accuracy: 0.6780 - val_loss: 0.9207 - val_accuracy: 0.6763\n",
      "Epoch 5/10\n",
      "1563/1563 [==============================] - 58s 37ms/step - loss: 0.8451 - accuracy: 0.7034 - val_loss: 0.9107 - val_accuracy: 0.6869\n",
      "Epoch 6/10\n",
      "1563/1563 [==============================] - 59s 38ms/step - loss: 0.7881 - accuracy: 0.7224 - val_loss: 0.8934 - val_accuracy: 0.6918\n",
      "Epoch 7/10\n",
      "1563/1563 [==============================] - 56s 36ms/step - loss: 0.7422 - accuracy: 0.7390 - val_loss: 0.8784 - val_accuracy: 0.6989\n",
      "Epoch 8/10\n",
      "1563/1563 [==============================] - 58s 37ms/step - loss: 0.7026 - accuracy: 0.7533 - val_loss: 0.8560 - val_accuracy: 0.7115\n",
      "Epoch 9/10\n",
      "1563/1563 [==============================] - 57s 36ms/step - loss: 0.6657 - accuracy: 0.7662 - val_loss: 0.8648 - val_accuracy: 0.7086\n",
      "Epoch 10/10\n",
      "1563/1563 [==============================] - 57s 36ms/step - loss: 0.6324 - accuracy: 0.7787 - val_loss: 0.8600 - val_accuracy: 0.7133\n"
     ]
    }
   ],
   "source": [
    "model.compile(optimizer='adam',loss='categorical_crossentropy',metrics=['accuracy'])\n",
    "epochs = 10\n",
    "h = model.fit(x_train, y_train, epochs=epochs, validation_data=(x_test, y_test))"
   ]
  },
  {
   "cell_type": "code",
   "execution_count": 8,
   "id": "256b3efe",
   "metadata": {},
   "outputs": [
    {
     "name": "stdout",
     "output_type": "stream",
     "text": [
      "313/313 [==============================] - 4s 12ms/step - loss: 0.8600 - accuracy: 0.7133\n",
      "Loss=0.860\n",
      "Accuracy=0.713\n"
     ]
    }
   ],
   "source": [
    "test_loss,test_acc = model.evaluate(x_test,y_test)\n",
    "print(\"Loss=%.3f\"%test_loss)\n",
    "print(\"Accuracy=%.3f\"%test_acc)"
   ]
  },
  {
   "cell_type": "code",
   "execution_count": 9,
   "id": "34326e3a",
   "metadata": {},
   "outputs": [
    {
     "name": "stdout",
     "output_type": "stream",
     "text": [
      "313/313 [==============================] - 4s 12ms/step\n",
      "Actual :  frog\n",
      "Predicted :  frog\n"
     ]
    },
    {
     "data": {
      "image/png": "[encoded data removed]",
      "text/plain": [
       "<Figure size 640x480 with 1 Axes>"
      ]
     },
     "metadata": {},
     "output_type": "display_data"
    }
   ],
   "source": [
    "class_names = ['airplane', 'automobile', 'bird', 'cat', 'deer','dog', 'frog', 'horse', 'ship', 'truck']\n",
    "n=4\n",
    "plt.imshow(x_test[n].reshape(32,32,3,), cmap='gray')\n",
    "predicted_value = model.predict(x_test)\n",
    "print(\"Actual : \",class_names[np.argmax(y_test[n])])\n",
    "print(\"Predicted : \", class_names[np.argmax(predicted_value[n])])"
   ]
  },
  {
   "cell_type": "code",
   "execution_count": 10,
   "id": "a7b2230c",
   "metadata": {},
   "outputs": [],
   "source": [
    "# class_names = ['airplane', 'automobile', 'bird', 'cat', 'deer','dog', 'frog', 'horse', 'ship', 'truck']\n",
    "\n",
    "# plt.figure(figsize=(10,10))\n",
    "# for i in range(10):\n",
    "#     plt.subplot(5,5,i+1)\n",
    "#     plt.xticks([])\n",
    "#     plt.yticks([])\n",
    "#     plt.grid(False)\n",
    "#     plt.imshow(x_train[i])\n",
    "#     plt.xlabel(class_names[y_train[i][0]])\n",
    "# plt.show()"
   ]
  },
  {
   "cell_type": "code",
   "execution_count": null,
   "id": "459c63ed",
   "metadata": {},
   "outputs": [],
   "source": []
  },
  {
   "cell_type": "code",
   "execution_count": null,
   "id": "86ed4a61",
   "metadata": {},
   "outputs": [],
   "source": [
    "h = h.history\n",
    "h.keys()"
   ]
  },
  {
   "cell_type": "code",
   "execution_count": 12,
   "id": "89edf0da",
   "metadata": {},
   "outputs": [
    {
     "ename": "TypeError",
     "evalue": "'History' object is not subscriptable",
     "output_type": "error",
     "traceback": [
      "\u001b[1;31m---------------------------------------------------------------------------\u001b[0m",
      "\u001b[1;31mTypeError\u001b[0m                                 Traceback (most recent call last)",
      "Cell \u001b[1;32mIn [12], line 2\u001b[0m\n\u001b[0;32m      1\u001b[0m \u001b[38;5;66;03m# Plot training & validation accuracy values\u001b[39;00m\n\u001b[1;32m----> 2\u001b[0m plt\u001b[38;5;241m.\u001b[39mplot(\u001b[43mh\u001b[49m\u001b[43m[\u001b[49m\u001b[38;5;124;43m'\u001b[39;49m\u001b[38;5;124;43maccuracy\u001b[39;49m\u001b[38;5;124;43m'\u001b[39;49m\u001b[43m]\u001b[49m)\n\u001b[0;32m      3\u001b[0m plt\u001b[38;5;241m.\u001b[39mplot(h[\u001b[38;5;124m'\u001b[39m\u001b[38;5;124mval_accuracy\u001b[39m\u001b[38;5;124m'\u001b[39m])\n\u001b[0;32m      4\u001b[0m plt\u001b[38;5;241m.\u001b[39mtitle(\u001b[38;5;124m'\u001b[39m\u001b[38;5;124mModel accuracy\u001b[39m\u001b[38;5;124m'\u001b[39m)\n",
      "\u001b[1;31mTypeError\u001b[0m: 'History' object is not subscriptable"
     ]
    }
   ],
   "source": [
    "# Plot training & validation accuracy values\n",
    "plt.plot(h['accuracy'])\n",
    "plt.plot(h['val_accuracy'])\n",
    "plt.title('Model accuracy')\n",
    "plt.ylabel('Accuracy')\n",
    "plt.xlabel('Epoch')\n",
    "plt.legend(['Train', 'Test'], loc='upper left')\n",
    "plt.show()\n",
    "     "
   ]
  },
  {
   "cell_type": "code",
   "execution_count": null,
   "id": "413335dc",
   "metadata": {},
   "outputs": [],
   "source": [
    "# Plot training & validation accuracy values\n",
    "plt.plot(h['accuracy'])\n",
    "plt.plot(h['val_accuracy'])\n",
    "plt.title('Model accuracy')\n",
    "plt.ylabel('Accuracy')\n",
    "plt.xlabel('Epoch')\n",
    "plt.legend(['Train', 'Test'], loc='upper left')\n",
    "plt.show()"
   ]
  },
  {
   "cell_type": "code",
   "execution_count": null,
   "id": "dbe7ae93",
   "metadata": {},
   "outputs": [],
   "source": []
  },
  {
   "cell_type": "code",
   "execution_count": null,
   "id": "892adb65",
   "metadata": {},
   "outputs": [],
   "source": []
  }
 ],
 "metadata": {
  "kernelspec": {
   "display_name": "Python 3 (ipykernel)",
   "language": "python",
   "name": "python3"
  },
  "language_info": {
   "codemirror_mode": {
    "name": "ipython",
    "version": 3
   },
   "file_extension": ".py",
   "mimetype": "text/x-python",
   "name": "python",
   "nbconvert_exporter": "python",
   "pygments_lexer": "ipython3",
   "version": "3.10.8"
  }
 },
 "nbformat": 4,
 "nbformat_minor": 5
}
