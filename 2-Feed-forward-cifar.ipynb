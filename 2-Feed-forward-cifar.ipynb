{
 "cells": [
  {
   "cell_type": "code",
   "execution_count": 1,
   "id": "9b2734b8",
   "metadata": {},
   "outputs": [],
   "source": [
    "import numpy as np\n",
    "import matplotlib.pyplot as plt\n",
    "import tensorflow as tf\n",
    "from tensorflow import keras\n",
    "from tensorflow.keras.datasets import mnist\n",
    "from tensorflow.keras.models import Sequential\n",
    "from tensorflow.keras.layers import Dense\n",
    "from tensorflow.keras.optimizers import SGD\n",
    "import pandas as pd"
   ]
  },
  {
   "cell_type": "code",
   "execution_count": 2,
   "id": "13edac9b",
   "metadata": {},
   "outputs": [],
   "source": [
    "train_data = pd.read_csv('../LP-IV-datasets/CIFR(Ass2&3)/train_data.csv')\n",
    "test_data = pd.read_csv('../LP-IV-datasets/CIFR(Ass2&3)/test_data.csv')\n",
    "\n",
    "x_train=train_data.drop('label',axis=1).values\n",
    "y_train=train_data['label'].values\n",
    "\n",
    "x_test=test_data.drop('label',axis=1).values\n",
    "y_test=test_data['label'].values\n",
    "\n",
    "num_classes=10\n",
    "\n",
    "x_train=x_train.astype(\"float32\")/255.0\n",
    "x_test=x_test.astype(\"float32\")/255.0\n",
    "\n",
    "x_train=x_train.reshape((-1,32*32*3))   # -1,28*28\n",
    "x_test=x_test.reshape((-1,32*32*3))   # -1,28*28\n",
    "\n",
    "y_train=keras.utils.to_categorical(y_train,num_classes)\n",
    "y_test=keras.utils.to_categorical(y_test,num_classes)"
   ]
  },
  {
   "cell_type": "code",
   "execution_count": 3,
   "id": "7f53b5e3",
   "metadata": {},
   "outputs": [
    {
     "name": "stdout",
     "output_type": "stream",
     "text": [
      "Model: \"sequential\"\n",
      "_________________________________________________________________\n",
      " Layer (type)                Output Shape              Param #   \n",
      "=================================================================\n",
      " dense (Dense)               (None, 128)               393344    \n",
      "                                                                 \n",
      " dense_1 (Dense)             (None, 64)                8256      \n",
      "                                                                 \n",
      " dense_2 (Dense)             (None, 10)                650       \n",
      "                                                                 \n",
      "=================================================================\n",
      "Total params: 402250 (1.53 MB)\n",
      "Trainable params: 402250 (1.53 MB)\n",
      "Non-trainable params: 0 (0.00 Byte)\n",
      "_________________________________________________________________\n"
     ]
    }
   ],
   "source": [
    "model=Sequential()\n",
    "model.add(Dense(128,input_shape=(32*32*3,),activation=\"relu\"))    #28*28\n",
    "model.add(Dense(64,activation=\"relu\"))\n",
    "model.add(Dense(num_classes,activation=\"softmax\"))\n",
    "\n",
    "model.summary()"
   ]
  },
  {
   "cell_type": "code",
   "execution_count": 4,
   "id": "de4ba956",
   "metadata": {},
   "outputs": [
    {
     "name": "stdout",
     "output_type": "stream",
     "text": [
      "Epoch 1/50\n",
      "391/391 [==============================] - 6s 13ms/step - loss: 2.0320 - accuracy: 0.2742 - val_loss: 1.9052 - val_accuracy: 0.3200\n",
      "Epoch 2/50\n",
      "391/391 [==============================] - 4s 11ms/step - loss: 1.8619 - accuracy: 0.3428 - val_loss: 1.8240 - val_accuracy: 0.3500\n",
      "Epoch 3/50\n",
      "391/391 [==============================] - 5s 12ms/step - loss: 1.7959 - accuracy: 0.3691 - val_loss: 1.7812 - val_accuracy: 0.3655\n",
      "Epoch 4/50\n",
      "391/391 [==============================] - 4s 11ms/step - loss: 1.7494 - accuracy: 0.3843 - val_loss: 1.7500 - val_accuracy: 0.3834\n",
      "Epoch 5/50\n",
      "391/391 [==============================] - 4s 11ms/step - loss: 1.7076 - accuracy: 0.3998 - val_loss: 1.7004 - val_accuracy: 0.4001\n",
      "Epoch 6/50\n",
      "391/391 [==============================] - 4s 11ms/step - loss: 1.6732 - accuracy: 0.4120 - val_loss: 1.6721 - val_accuracy: 0.4152\n",
      "Epoch 7/50\n",
      "391/391 [==============================] - 4s 11ms/step - loss: 1.6425 - accuracy: 0.4216 - val_loss: 1.6441 - val_accuracy: 0.4201\n",
      "Epoch 8/50\n",
      "391/391 [==============================] - 4s 11ms/step - loss: 1.6159 - accuracy: 0.4323 - val_loss: 1.6058 - val_accuracy: 0.4342\n",
      "Epoch 9/50\n",
      "391/391 [==============================] - 4s 11ms/step - loss: 1.5945 - accuracy: 0.4388 - val_loss: 1.6185 - val_accuracy: 0.4245\n",
      "Epoch 10/50\n",
      "391/391 [==============================] - 4s 11ms/step - loss: 1.5738 - accuracy: 0.4467 - val_loss: 1.5705 - val_accuracy: 0.4449\n",
      "Epoch 11/50\n",
      "391/391 [==============================] - 4s 11ms/step - loss: 1.5583 - accuracy: 0.4538 - val_loss: 1.6099 - val_accuracy: 0.4261\n",
      "Epoch 12/50\n",
      "391/391 [==============================] - 4s 11ms/step - loss: 1.5420 - accuracy: 0.4569 - val_loss: 1.5384 - val_accuracy: 0.4615\n",
      "Epoch 13/50\n",
      "391/391 [==============================] - 4s 11ms/step - loss: 1.5243 - accuracy: 0.4655 - val_loss: 1.5610 - val_accuracy: 0.4535\n",
      "Epoch 14/50\n",
      "391/391 [==============================] - 4s 11ms/step - loss: 1.5132 - accuracy: 0.4675 - val_loss: 1.5268 - val_accuracy: 0.4592\n",
      "Epoch 15/50\n",
      "391/391 [==============================] - 5s 12ms/step - loss: 1.4989 - accuracy: 0.4719 - val_loss: 1.5398 - val_accuracy: 0.4555\n",
      "Epoch 16/50\n",
      "391/391 [==============================] - 4s 11ms/step - loss: 1.4864 - accuracy: 0.4772 - val_loss: 1.5532 - val_accuracy: 0.4541\n",
      "Epoch 17/50\n",
      "391/391 [==============================] - 4s 11ms/step - loss: 1.4765 - accuracy: 0.4823 - val_loss: 1.5100 - val_accuracy: 0.4610\n",
      "Epoch 18/50\n",
      "391/391 [==============================] - 4s 11ms/step - loss: 1.4624 - accuracy: 0.4876 - val_loss: 1.4957 - val_accuracy: 0.4693\n",
      "Epoch 19/50\n",
      "391/391 [==============================] - 4s 11ms/step - loss: 1.4543 - accuracy: 0.4887 - val_loss: 1.4887 - val_accuracy: 0.4745\n",
      "Epoch 20/50\n",
      "391/391 [==============================] - 4s 11ms/step - loss: 1.4431 - accuracy: 0.4924 - val_loss: 1.5020 - val_accuracy: 0.4696\n",
      "Epoch 21/50\n",
      "391/391 [==============================] - 4s 11ms/step - loss: 1.4330 - accuracy: 0.4972 - val_loss: 1.4723 - val_accuracy: 0.4784\n",
      "Epoch 22/50\n",
      "391/391 [==============================] - 4s 11ms/step - loss: 1.4214 - accuracy: 0.4999 - val_loss: 1.4586 - val_accuracy: 0.4807\n",
      "Epoch 23/50\n",
      "391/391 [==============================] - 4s 11ms/step - loss: 1.4125 - accuracy: 0.5047 - val_loss: 1.4724 - val_accuracy: 0.4774\n",
      "Epoch 24/50\n",
      "391/391 [==============================] - 4s 11ms/step - loss: 1.4066 - accuracy: 0.5054 - val_loss: 1.4584 - val_accuracy: 0.4824\n",
      "Epoch 25/50\n",
      "391/391 [==============================] - 4s 11ms/step - loss: 1.3959 - accuracy: 0.5087 - val_loss: 1.4727 - val_accuracy: 0.4822\n",
      "Epoch 26/50\n",
      "391/391 [==============================] - 4s 11ms/step - loss: 1.3890 - accuracy: 0.5110 - val_loss: 1.4723 - val_accuracy: 0.4806\n",
      "Epoch 27/50\n",
      "391/391 [==============================] - 5s 12ms/step - loss: 1.3797 - accuracy: 0.5148 - val_loss: 1.5461 - val_accuracy: 0.4483\n",
      "Epoch 28/50\n",
      "391/391 [==============================] - 5s 12ms/step - loss: 1.3748 - accuracy: 0.5173 - val_loss: 1.4788 - val_accuracy: 0.4851\n",
      "Epoch 29/50\n",
      "391/391 [==============================] - 4s 10ms/step - loss: 1.3667 - accuracy: 0.5172 - val_loss: 1.4423 - val_accuracy: 0.4856\n",
      "Epoch 30/50\n",
      "391/391 [==============================] - 4s 11ms/step - loss: 1.3603 - accuracy: 0.5224 - val_loss: 1.5778 - val_accuracy: 0.4507\n",
      "Epoch 31/50\n",
      "391/391 [==============================] - 4s 11ms/step - loss: 1.3526 - accuracy: 0.5242 - val_loss: 1.4222 - val_accuracy: 0.5023\n",
      "Epoch 32/50\n",
      "391/391 [==============================] - 4s 11ms/step - loss: 1.3460 - accuracy: 0.5257 - val_loss: 1.4298 - val_accuracy: 0.4958\n",
      "Epoch 33/50\n",
      "391/391 [==============================] - 4s 10ms/step - loss: 1.3352 - accuracy: 0.5290 - val_loss: 1.4386 - val_accuracy: 0.4936\n",
      "Epoch 34/50\n",
      "391/391 [==============================] - 4s 10ms/step - loss: 1.3320 - accuracy: 0.5324 - val_loss: 1.4157 - val_accuracy: 0.5049\n",
      "Epoch 35/50\n",
      "391/391 [==============================] - 4s 10ms/step - loss: 1.3250 - accuracy: 0.5343 - val_loss: 1.4671 - val_accuracy: 0.4807\n",
      "Epoch 36/50\n",
      "391/391 [==============================] - 4s 10ms/step - loss: 1.3184 - accuracy: 0.5343 - val_loss: 1.4389 - val_accuracy: 0.4898\n",
      "Epoch 37/50\n",
      "391/391 [==============================] - 4s 10ms/step - loss: 1.3128 - accuracy: 0.5376 - val_loss: 1.4764 - val_accuracy: 0.4789\n",
      "Epoch 38/50\n",
      "391/391 [==============================] - 4s 10ms/step - loss: 1.3061 - accuracy: 0.5412 - val_loss: 1.3996 - val_accuracy: 0.5037\n",
      "Epoch 39/50\n",
      "391/391 [==============================] - 4s 10ms/step - loss: 1.3019 - accuracy: 0.5428 - val_loss: 1.4144 - val_accuracy: 0.4996\n",
      "Epoch 40/50\n",
      "391/391 [==============================] - 4s 10ms/step - loss: 1.2927 - accuracy: 0.5447 - val_loss: 1.4162 - val_accuracy: 0.5011\n",
      "Epoch 41/50\n",
      "391/391 [==============================] - 4s 10ms/step - loss: 1.2892 - accuracy: 0.5468 - val_loss: 1.3979 - val_accuracy: 0.5046\n",
      "Epoch 42/50\n",
      "391/391 [==============================] - 4s 10ms/step - loss: 1.2850 - accuracy: 0.5472 - val_loss: 1.4405 - val_accuracy: 0.4931\n",
      "Epoch 43/50\n",
      "391/391 [==============================] - 4s 10ms/step - loss: 1.2792 - accuracy: 0.5516 - val_loss: 1.4163 - val_accuracy: 0.5013\n",
      "Epoch 44/50\n",
      "391/391 [==============================] - 4s 10ms/step - loss: 1.2724 - accuracy: 0.5523 - val_loss: 1.4470 - val_accuracy: 0.5004\n",
      "Epoch 45/50\n",
      "391/391 [==============================] - 4s 10ms/step - loss: 1.2685 - accuracy: 0.5524 - val_loss: 1.4048 - val_accuracy: 0.5026\n",
      "Epoch 46/50\n",
      "391/391 [==============================] - 4s 10ms/step - loss: 1.2646 - accuracy: 0.5546 - val_loss: 1.4007 - val_accuracy: 0.5056\n",
      "Epoch 47/50\n",
      "391/391 [==============================] - 4s 10ms/step - loss: 1.2565 - accuracy: 0.5598 - val_loss: 1.4135 - val_accuracy: 0.4971\n",
      "Epoch 48/50\n",
      "391/391 [==============================] - 4s 10ms/step - loss: 1.2492 - accuracy: 0.5615 - val_loss: 1.4066 - val_accuracy: 0.5031\n",
      "Epoch 49/50\n",
      "391/391 [==============================] - 4s 10ms/step - loss: 1.2493 - accuracy: 0.5601 - val_loss: 1.3837 - val_accuracy: 0.5133\n",
      "Epoch 50/50\n",
      "391/391 [==============================] - 4s 10ms/step - loss: 1.2453 - accuracy: 0.5634 - val_loss: 1.3952 - val_accuracy: 0.5093\n"
     ]
    },
    {
     "data": {
      "text/plain": [
       "<keras.src.callbacks.History at 0x20b92b01a80>"
      ]
     },
     "execution_count": 4,
     "metadata": {},
     "output_type": "execute_result"
    }
   ],
   "source": [
    "model.compile(optimizer=\"sgd\",loss=\"categorical_crossentropy\",metrics=[\"accuracy\"])\n",
    "model.fit(x_train,y_train,epochs=50,validation_data=(x_test,y_test),batch_size=128)   #11"
   ]
  },
  {
   "cell_type": "code",
   "execution_count": 5,
   "id": "580846cd",
   "metadata": {},
   "outputs": [
    {
     "name": "stdout",
     "output_type": "stream",
     "text": [
      "313/313 [==============================] - 1s 3ms/step - loss: 1.3952 - accuracy: 0.5093\n",
      "test loss 1.3952151536941528\n",
      "test acc 0.5092999935150146\n"
     ]
    }
   ],
   "source": [
    "score=model.evaluate(x_test,y_test)\n",
    "print('test loss',score[0])\n",
    "print('test acc',score[1])"
   ]
  },
  {
   "cell_type": "code",
   "execution_count": 6,
   "id": "43709238",
   "metadata": {},
   "outputs": [],
   "source": [
    "import random\n",
    "class_value=['aeroplane','automobile','bird','cat','deer','dog','frog','horse','ship','truck']"
   ]
  },
  {
   "cell_type": "code",
   "execution_count": 7,
   "id": "1b27336f",
   "metadata": {},
   "outputs": [
    {
     "name": "stdout",
     "output_type": "stream",
     "text": [
      "313/313 [==============================] - 1s 3ms/step\n",
      "Actual: frog\n",
      "Predicted: frog\n"
     ]
    },
    {
     "data": {
      "image/png": "[encoded data removed]",
      "text/plain": [
       "<Figure size 640x480 with 1 Axes>"
      ]
     },
     "metadata": {},
     "output_type": "display_data"
    }
   ],
   "source": [
    "n=30\n",
    "plt.imshow(x_test[n].reshape(32,32,3),cmap='gray')    #28,28\n",
    "pred_val=model.predict(x_test)\n",
    "print(\"Actual:\",class_value[np.argmax(y_test[n])])\n",
    "print(\"Predicted:\",class_value[np.argmax(pred_val[n])])"
   ]
  },
  {
   "cell_type": "code",
   "execution_count": 8,
   "id": "fb4d1c42",
   "metadata": {},
   "outputs": [],
   "source": [
    "# # Plot training & validation loss values\n",
    "# plt.plot(history.history['loss'])\n",
    "# plt.plot(history.history['val_loss'])\n",
    "# plt.title('Model loss')\n",
    "# plt.ylabel('Loss')\n",
    "# plt.xlabel('Epoch')\n",
    "# plt.legend(['Train', 'Test'], loc='upper right')\n",
    "# plt.show()"
   ]
  },
  {
   "cell_type": "code",
   "execution_count": null,
   "id": "3ff9face",
   "metadata": {},
   "outputs": [],
   "source": [
    "# # Plot training & validation accuracy values\n",
    "# plt.plot(history.history['accuracy'])\n",
    "# plt.plot(history.history['val_accuracy'])\n",
    "# plt.title('Model accuracy')\n",
    "# plt.ylabel('Accuracy')\n",
    "# plt.xlabel('Epoch')\n",
    "# plt.legend(['Train', 'Test'], loc='upper left')\n",
    "# plt.show()"
   ]
  },
  {
   "cell_type": "code",
   "execution_count": null,
   "id": "47f7c277",
   "metadata": {},
   "outputs": [],
   "source": []
  }
 ],
 "metadata": {
  "kernelspec": {
   "display_name": "Python 3 (ipykernel)",
   "language": "python",
   "name": "python3"
  },
  "language_info": {
   "codemirror_mode": {
    "name": "ipython",
    "version": 3
   },
   "file_extension": ".py",
   "mimetype": "text/x-python",
   "name": "python",
   "nbconvert_exporter": "python",
   "pygments_lexer": "ipython3",
   "version": "3.10.8"
  }
 },
 "nbformat": 4,
 "nbformat_minor": 5
}
